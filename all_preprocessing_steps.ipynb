{
 "cells": [
  {
   "cell_type": "code",
   "execution_count": 1,
   "id": "8c3bbe85-acc2-4cf5-a406-0075e6a832ac",
   "metadata": {},
   "outputs": [],
   "source": [
    "text = \"Welcome to <b>ChatGPT!</b> It's amazing how A.I. is transforming the world. Don't you think so? Visit https://www.openai.com to explore more! We're here to help, no matter the time or place. For only $9.99/month, you can access premium features—Wow! However, isn't it incredible how fast things evolve? <i>Stay tuned</i> for more updates.\"\n"
   ]
  },
  {
   "cell_type": "code",
   "execution_count": 2,
   "id": "f2041ecc-c8c2-47d8-921b-8f0226d0a603",
   "metadata": {},
   "outputs": [],
   "source": [
    "lowercased_text = text.lower()"
   ]
  },
  {
   "cell_type": "code",
   "execution_count": 3,
   "id": "2dcaadf0-2077-42f6-93eb-6a59ca746ad7",
   "metadata": {},
   "outputs": [
    {
     "name": "stdout",
     "output_type": "stream",
     "text": [
      "welcome to <b>chatgpt!</b> it's amazing how a.i. is transforming the world. don't you think so? visit https://www.openai.com to explore more! we're here to help, no matter the time or place. for only $9.99/month, you can access premium features—wow! however, isn't it incredible how fast things evolve? <i>stay tuned</i> for more updates.\n"
     ]
    }
   ],
   "source": [
    "print(lowercased_text)"
   ]
  },
  {
   "cell_type": "code",
   "execution_count": 4,
   "id": "0f0d53c1-f200-44a5-8576-cf58944f6a1f",
   "metadata": {},
   "outputs": [],
   "source": [
    "import re"
   ]
  },
  {
   "cell_type": "code",
   "execution_count": 10,
   "id": "96469fd0-45c1-40ed-8a4e-727f8438e851",
   "metadata": {},
   "outputs": [
    {
     "name": "stdout",
     "output_type": "stream",
     "text": [
      "welcome to chatgpt! it's amazing how a.i. is transforming the world. don't you think so? visit https://www.openai.com to explore more! we're here to help, no matter the time or place. for only $9.99/month, you can access premium features—wow! however, isn't it incredible how fast things evolve? stay tuned for more updates.\n"
     ]
    }
   ],
   "source": [
    "html_pattern = r'<.*?>'\n",
    "text_without_html_tag = re.sub(html_pattern, '', lowercased_text)\n",
    "print(text_without_html_tag)"
   ]
  },
  {
   "cell_type": "code",
   "execution_count": 14,
   "id": "34792926-9158-48fd-b2b4-14c44a03c3d4",
   "metadata": {},
   "outputs": [
    {
     "name": "stdout",
     "output_type": "stream",
     "text": [
      "welcome to chatgpt! it's amazing how a.i. is transforming the world. don't you think so? visit  to explore more! we're here to help, no matter the time or place. for only $9.99/month, you can access premium features—wow! however, isn't it incredible how fast things evolve? stay tuned for more updates.\n"
     ]
    }
   ],
   "source": [
    "def remove_urls(text):\n",
    "    url_pattern = re.compile(r'https?://\\S+|www\\.\\S+')\n",
    "    return url_pattern.sub(r'', text)\n",
    "\n",
    "removed_urls = remove_urls(text_without_html_tag)\n",
    "print(removed_urls)"
   ]
  },
  {
   "cell_type": "code",
   "execution_count": 15,
   "id": "822bbe81-e2c3-47dd-806a-782de16e1ce3",
   "metadata": {},
   "outputs": [],
   "source": [
    "punctuation_pattern = r'[^\\w\\s]'\n",
    "text_cleaned = re.sub(punctuation_pattern, '', removed_urls)"
   ]
  },
  {
   "cell_type": "code",
   "execution_count": 16,
   "id": "279a0378-3d61-4989-a426-8eac855fe55a",
   "metadata": {},
   "outputs": [
    {
     "name": "stdout",
     "output_type": "stream",
     "text": [
      "welcome to chatgpt its amazing how ai is transforming the world dont you think so visit  to explore more were here to help no matter the time or place for only 999month you can access premium featureswow however isnt it incredible how fast things evolve stay tuned for more updates\n"
     ]
    }
   ],
   "source": [
    "print(text_cleaned)"
   ]
  },
  {
   "cell_type": "code",
   "execution_count": 17,
   "id": "b43d6f47-8c23-4934-b71a-846590a15bad",
   "metadata": {},
   "outputs": [],
   "source": [
    "from nltk.corpus import  stopwords"
   ]
  },
  {
   "cell_type": "code",
   "execution_count": 18,
   "id": "3a074b9d-752e-4afd-b2db-0dfd66fe8acf",
   "metadata": {},
   "outputs": [],
   "source": [
    "def remove_stopwords(text, language):\n",
    "    stop_words = set(stopwords.words(language))\n",
    "    word_tokens = text.split()\n",
    "    filtered_text = [word for word in word_tokens if word not in stop_words]\n",
    "    return filtered_text"
   ]
  },
  {
   "cell_type": "code",
   "execution_count": 20,
   "id": "b1f1863f-dd64-43a3-9ca0-595e53146a78",
   "metadata": {},
   "outputs": [
    {
     "name": "stderr",
     "output_type": "stream",
     "text": [
      "[nltk_data] Downloading package stopwords to\n",
      "[nltk_data]     C:\\Users\\jimit_moontechnolabs\\AppData\\Roaming\\nltk_dat\n",
      "[nltk_data]     a...\n",
      "[nltk_data]   Unzipping corpora\\stopwords.zip.\n"
     ]
    },
    {
     "data": {
      "text/plain": [
       "True"
      ]
     },
     "execution_count": 20,
     "metadata": {},
     "output_type": "execute_result"
    }
   ],
   "source": [
    "import nltk\n",
    "nltk.download('stopwords')"
   ]
  },
  {
   "cell_type": "code",
   "execution_count": 22,
   "id": "4a4de787-91c3-437c-a602-0f8fbd3fc3e3",
   "metadata": {},
   "outputs": [
    {
     "name": "stdout",
     "output_type": "stream",
     "text": [
      "['welcome', 'chatgpt', 'amazing', 'ai', 'transforming', 'world', 'dont', 'think', 'visit', 'explore', 'help', 'matter', 'time', 'place', '999month', 'access', 'premium', 'featureswow', 'however', 'isnt', 'incredible', 'fast', 'things', 'evolve', 'stay', 'tuned', 'updates']\n"
     ]
    }
   ],
   "source": [
    "all_cleared_text = remove_stopwords(text_cleaned, \"english\")\n",
    "print(all_cleared_text)"
   ]
  },
  {
   "cell_type": "code",
   "execution_count": 23,
   "id": "4e5b0b4d-e41d-4414-9d8d-41aa8b0b6a46",
   "metadata": {},
   "outputs": [],
   "source": [
    "from nltk.stem import SnowballStemmer\n",
    "snowball = SnowballStemmer('english', ignore_stopwords=False)"
   ]
  },
  {
   "cell_type": "code",
   "execution_count": 25,
   "id": "844071b1-0903-4b20-9d4e-f49e2c6aa8b7",
   "metadata": {},
   "outputs": [
    {
     "name": "stdout",
     "output_type": "stream",
     "text": [
      "welcom\n",
      "chatgpt\n",
      "amaz\n",
      "ai\n",
      "transform\n",
      "world\n",
      "dont\n",
      "think\n",
      "visit\n",
      "explor\n",
      "help\n",
      "matter\n",
      "time\n",
      "place\n",
      "999month\n",
      "access\n",
      "premium\n",
      "featureswow\n",
      "howev\n",
      "isnt\n",
      "incred\n",
      "fast\n",
      "thing\n",
      "evolv\n",
      "stay\n",
      "tune\n",
      "updat\n"
     ]
    }
   ],
   "source": [
    "for word in all_cleared_text:\n",
    "    print(snowball.stem(word))"
   ]
  },
  {
   "cell_type": "code",
   "execution_count": 26,
   "id": "38b3a0bf-c1e1-44ac-b35c-b6ada14e3762",
   "metadata": {},
   "outputs": [
    {
     "name": "stderr",
     "output_type": "stream",
     "text": [
      "[nltk_data] Downloading package wordnet to\n",
      "[nltk_data]     C:\\Users\\jimit_moontechnolabs\\AppData\\Roaming\\nltk_dat\n",
      "[nltk_data]     a...\n",
      "[nltk_data]   Package wordnet is already up-to-date!\n"
     ]
    },
    {
     "data": {
      "text/plain": [
       "True"
      ]
     },
     "execution_count": 26,
     "metadata": {},
     "output_type": "execute_result"
    }
   ],
   "source": [
    "nltk.download('wordnet')"
   ]
  },
  {
   "cell_type": "code",
   "execution_count": 27,
   "id": "767041de-d0a6-4cd6-86f8-c6d395f6e8a0",
   "metadata": {},
   "outputs": [],
   "source": [
    "from nltk.stem import WordNetLemmatizer\n",
    "lemmatizer = WordNetLemmatizer()"
   ]
  },
  {
   "cell_type": "code",
   "execution_count": 33,
   "id": "be086acc-9790-417b-92ab-0f60cb0ba0d6",
   "metadata": {},
   "outputs": [
    {
     "name": "stdout",
     "output_type": "stream",
     "text": [
      "['welcome', 'chatgpt', 'amazing', 'ai', 'transforming', 'world', 'dont', 'think', 'visit', 'explore', 'help', 'matter', 'time', 'place', '999month', 'access', 'premium', 'featureswow', 'however', 'isnt', 'incredible', 'fast', 'thing', 'evolve', 'stay', 'tuned', 'update']\n"
     ]
    }
   ],
   "source": [
    "i = 0\n",
    "final = []\n",
    "for word in all_cleared_text:\n",
    "    final_word = lemmatizer.lemmatize(word)\n",
    "    final.append(final_word)  \n",
    "    i += 1 \n",
    "print(final)"
   ]
  },
  {
   "cell_type": "code",
   "execution_count": 34,
   "id": "ab1ee109-0b35-4ab6-b215-aa383a66af9e",
   "metadata": {},
   "outputs": [
    {
     "name": "stdout",
     "output_type": "stream",
     "text": [
      "welcome chatgpt amazing ai transforming world dont think visit explore help matter time place 999month access premium featureswow however isnt incredible fast thing evolve stay tuned update \n"
     ]
    }
   ],
   "source": [
    "lemmatized_paragraph = \"\"\n",
    "\n",
    "for word in all_cleared_text:\n",
    "    final_word = lemmatizer.lemmatize(word)\n",
    "    lemmatized_paragraph += final_word + \" \"  # Append each word followed by a space\n",
    "\n",
    "# Strip any extra trailing spaces (optional)\n",
    "#lemmatized_paragraph = lemmatized_paragraph.strip()\n",
    "\n",
    "# Print the final paragraph\n",
    "print(lemmatized_paragraph)"
   ]
  },
  {
   "cell_type": "code",
   "execution_count": 35,
   "id": "1e9c0a1b-7a32-405c-a576-c59ee2685104",
   "metadata": {},
   "outputs": [],
   "source": [
    "from nltk.stem import RegexpStemmer\n",
    "regstemmer = RegexpStemmer('ing$|s$|es$', min=4)"
   ]
  },
  {
   "cell_type": "code",
   "execution_count": 36,
   "id": "8ec6605d-dd42-4140-8fc1-9b257d24b390",
   "metadata": {},
   "outputs": [
    {
     "name": "stdout",
     "output_type": "stream",
     "text": [
      "welcome chatgpt amaz ai transform world dont think visit explore help matter time place 999month acces premium featureswow however isnt incredible fast thing evolve stay tuned updat \n"
     ]
    }
   ],
   "source": [
    "stemmerized_paragraph = \"\"\n",
    "\n",
    "for word in all_cleared_text:\n",
    "    final_word = regstemmer.stem(word)\n",
    "    stemmerized_paragraph += final_word + \" \"  # Append each word followed by a space\n",
    "\n",
    "# Strip any extra trailing spaces (optional)\n",
    "#lemmatized_paragraph = lemmatized_paragraph.strip()\n",
    "\n",
    "# Print the final paragraph\n",
    "print(stemmerized_paragraph)"
   ]
  },
  {
   "cell_type": "code",
   "execution_count": 38,
   "id": "9f143302-f118-4938-9a8d-0fafbcb3add8",
   "metadata": {},
   "outputs": [],
   "source": [
    "from nltk.tokenize import sent_tokenize"
   ]
  },
  {
   "cell_type": "code",
   "execution_count": 40,
   "id": "8c04881c-1587-4dc7-b69a-e1f0ff361f3b",
   "metadata": {},
   "outputs": [
    {
     "name": "stderr",
     "output_type": "stream",
     "text": [
      "[nltk_data] Downloading package punkt_tab to\n",
      "[nltk_data]     C:\\Users\\jimit_moontechnolabs\\AppData\\Roaming\\nltk_dat\n",
      "[nltk_data]     a...\n",
      "[nltk_data]   Unzipping tokenizers\\punkt_tab.zip.\n"
     ]
    },
    {
     "data": {
      "text/plain": [
       "True"
      ]
     },
     "execution_count": 40,
     "metadata": {},
     "output_type": "execute_result"
    }
   ],
   "source": [
    "nltk.download('punkt_tab')"
   ]
  },
  {
   "cell_type": "code",
   "execution_count": 47,
   "id": "3a68c904-f1d5-4e52-8148-839bf31af272",
   "metadata": {},
   "outputs": [],
   "source": [
    "corpus = \"\"\"\n",
    "hello, my name is jimit! I like to work in AI/ML.\n",
    "I'm working at MTPL.\n",
    "\"\"\""
   ]
  },
  {
   "cell_type": "code",
   "execution_count": 48,
   "id": "50746ce0-d1d2-400c-9d3c-1874a006cbe1",
   "metadata": {},
   "outputs": [
    {
     "data": {
      "text/plain": [
       "['\\nhello, my name is jimit!',\n",
       " 'I like to work in AI/ML.',\n",
       " \"I'm working at MTPL.\"]"
      ]
     },
     "execution_count": 48,
     "metadata": {},
     "output_type": "execute_result"
    }
   ],
   "source": [
    "sent_tokenize(corpus)"
   ]
  },
  {
   "cell_type": "code",
   "execution_count": 49,
   "id": "b6f08404-3225-4fbb-98db-0db7b8294d64",
   "metadata": {},
   "outputs": [],
   "source": [
    "from nltk.tokenize import word_tokenize"
   ]
  },
  {
   "cell_type": "code",
   "execution_count": 50,
   "id": "1401cc36-fbb2-4225-b1b7-c6a04219ccb6",
   "metadata": {},
   "outputs": [
    {
     "data": {
      "text/plain": [
       "['hello',\n",
       " ',',\n",
       " 'my',\n",
       " 'name',\n",
       " 'is',\n",
       " 'jimit',\n",
       " '!',\n",
       " 'I',\n",
       " 'like',\n",
       " 'to',\n",
       " 'work',\n",
       " 'in',\n",
       " 'AI/ML',\n",
       " '.',\n",
       " 'I',\n",
       " \"'m\",\n",
       " 'working',\n",
       " 'at',\n",
       " 'MTPL',\n",
       " '.']"
      ]
     },
     "execution_count": 50,
     "metadata": {},
     "output_type": "execute_result"
    }
   ],
   "source": [
    "word_tokenize(corpus)"
   ]
  },
  {
   "cell_type": "code",
   "execution_count": 51,
   "id": "bfdf5f35-bfdc-42a3-b1a2-94202ce616e1",
   "metadata": {},
   "outputs": [],
   "source": [
    "from nltk.tokenize import TreebankWordTokenizer"
   ]
  },
  {
   "cell_type": "code",
   "execution_count": 52,
   "id": "5d20ae28-1e23-4c1f-8f30-a12986753042",
   "metadata": {},
   "outputs": [],
   "source": [
    "tokenizer = TreebankWordTokenizer()"
   ]
  },
  {
   "cell_type": "code",
   "execution_count": 53,
   "id": "e8fa4913-ca24-431e-9184-273da349fa42",
   "metadata": {},
   "outputs": [
    {
     "data": {
      "text/plain": [
       "['hello',\n",
       " ',',\n",
       " 'my',\n",
       " 'name',\n",
       " 'is',\n",
       " 'jimit',\n",
       " '!',\n",
       " 'I',\n",
       " 'like',\n",
       " 'to',\n",
       " 'work',\n",
       " 'in',\n",
       " 'AI/ML.',\n",
       " 'I',\n",
       " \"'m\",\n",
       " 'working',\n",
       " 'at',\n",
       " 'MTPL',\n",
       " '.']"
      ]
     },
     "execution_count": 53,
     "metadata": {},
     "output_type": "execute_result"
    }
   ],
   "source": [
    "tokenizer.tokenize(corpus)"
   ]
  },
  {
   "cell_type": "code",
   "execution_count": 54,
   "id": "4aa8f52d-b8c9-4676-a2ce-f57d030847b1",
   "metadata": {},
   "outputs": [],
   "source": [
    "from nltk.tokenize import wordpunct_tokenize"
   ]
  },
  {
   "cell_type": "code",
   "execution_count": 56,
   "id": "fbd56c49-bb3d-4ee5-a799-03857f3b8268",
   "metadata": {},
   "outputs": [
    {
     "data": {
      "text/plain": [
       "['hello',\n",
       " ',',\n",
       " 'my',\n",
       " 'name',\n",
       " 'is',\n",
       " 'jimit',\n",
       " '!',\n",
       " 'I',\n",
       " 'like',\n",
       " 'to',\n",
       " 'work',\n",
       " 'in',\n",
       " 'AI',\n",
       " '/',\n",
       " 'ML',\n",
       " '.',\n",
       " 'I',\n",
       " \"'\",\n",
       " 'm',\n",
       " 'working',\n",
       " 'at',\n",
       " 'MTPL',\n",
       " '.']"
      ]
     },
     "execution_count": 56,
     "metadata": {},
     "output_type": "execute_result"
    }
   ],
   "source": [
    "wordpunct_tokenize(corpus)"
   ]
  },
  {
   "cell_type": "code",
   "execution_count": null,
   "id": "a0a0d2cc-f22a-4ab0-b70e-8e0172e13985",
   "metadata": {},
   "outputs": [],
   "source": []
  }
 ],
 "metadata": {
  "kernelspec": {
   "display_name": "Python 3 (ipykernel)",
   "language": "python",
   "name": "python3"
  },
  "language_info": {
   "codemirror_mode": {
    "name": "ipython",
    "version": 3
   },
   "file_extension": ".py",
   "mimetype": "text/x-python",
   "name": "python",
   "nbconvert_exporter": "python",
   "pygments_lexer": "ipython3",
   "version": "3.12.6"
  }
 },
 "nbformat": 4,
 "nbformat_minor": 5
}
