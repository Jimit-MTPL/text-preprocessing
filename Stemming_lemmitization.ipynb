{
 "cells": [
  {
   "cell_type": "code",
   "execution_count": 1,
   "id": "8a98dd94-98f6-4baa-8658-4d193b563b70",
   "metadata": {},
   "outputs": [
    {
     "name": "stdout",
     "output_type": "stream",
     "text": [
      "Collecting nltk\n",
      "  Downloading nltk-3.9.1-py3-none-any.whl.metadata (2.9 kB)\n",
      "Collecting click (from nltk)\n",
      "  Downloading click-8.1.7-py3-none-any.whl.metadata (3.0 kB)\n",
      "Requirement already satisfied: joblib in c:\\users\\jimit_moontechnolabs\\appdata\\local\\programs\\python\\python312\\lib\\site-packages (from nltk) (1.4.2)\n",
      "Collecting regex>=2021.8.3 (from nltk)\n",
      "  Downloading regex-2024.9.11-cp312-cp312-win_amd64.whl.metadata (41 kB)\n",
      "Collecting tqdm (from nltk)\n",
      "  Downloading tqdm-4.66.5-py3-none-any.whl.metadata (57 kB)\n",
      "Requirement already satisfied: colorama in c:\\users\\jimit_moontechnolabs\\appdata\\local\\programs\\python\\python312\\lib\\site-packages (from click->nltk) (0.4.6)\n",
      "Downloading nltk-3.9.1-py3-none-any.whl (1.5 MB)\n",
      "   ---------------------------------------- 0.0/1.5 MB ? eta -:--:--\n",
      "   ---------------------------------- ----- 1.3/1.5 MB 8.4 MB/s eta 0:00:01\n",
      "   ---------------------------------- ----- 1.3/1.5 MB 8.4 MB/s eta 0:00:01\n",
      "   ---------------------------------- ----- 1.3/1.5 MB 8.4 MB/s eta 0:00:01\n",
      "   ---------------------------------------- 1.5/1.5 MB 1.7 MB/s eta 0:00:00\n",
      "Downloading regex-2024.9.11-cp312-cp312-win_amd64.whl (273 kB)\n",
      "Downloading click-8.1.7-py3-none-any.whl (97 kB)\n",
      "Downloading tqdm-4.66.5-py3-none-any.whl (78 kB)\n",
      "Installing collected packages: tqdm, regex, click, nltk\n",
      "Successfully installed click-8.1.7 nltk-3.9.1 regex-2024.9.11 tqdm-4.66.5\n"
     ]
    }
   ],
   "source": [
    "!pip install nltk"
   ]
  },
  {
   "cell_type": "code",
   "execution_count": 3,
   "id": "b9d4ad15-c154-4721-b8a6-a810214184d3",
   "metadata": {},
   "outputs": [],
   "source": [
    "from nltk.stem import PorterStemmer"
   ]
  },
  {
   "cell_type": "code",
   "execution_count": 4,
   "id": "cb71a2a6-af02-4a1d-bf5c-6b27e53186c6",
   "metadata": {},
   "outputs": [],
   "source": [
    "stemming = PorterStemmer()"
   ]
  },
  {
   "cell_type": "code",
   "execution_count": 5,
   "id": "0441584a-5aeb-4cd7-8b7a-1c13e0a1773c",
   "metadata": {},
   "outputs": [],
   "source": [
    "words = [\"I\",\"am\",\"jimit\",\"working\",\"at\",\"moon\",\"technolabs\",\"as\",\"developer\"]"
   ]
  },
  {
   "cell_type": "code",
   "execution_count": 6,
   "id": "c4e300c3-135a-40ce-9137-ef4cdf88f778",
   "metadata": {},
   "outputs": [
    {
     "name": "stdout",
     "output_type": "stream",
     "text": [
      "i\n",
      "am\n",
      "jimit\n",
      "work\n",
      "at\n",
      "moon\n",
      "technolab\n",
      "as\n",
      "develop\n"
     ]
    }
   ],
   "source": [
    "for word in words:\n",
    "    print(stemming.stem(word))"
   ]
  },
  {
   "cell_type": "code",
   "execution_count": 7,
   "id": "c796aec9-4239-4d51-b78e-3e894cf2b548",
   "metadata": {},
   "outputs": [],
   "source": [
    "from nltk.stem import LancasterStemmer"
   ]
  },
  {
   "cell_type": "code",
   "execution_count": 8,
   "id": "37848dc6-cd27-4b22-b1c1-fe29bee6dd1d",
   "metadata": {},
   "outputs": [],
   "source": [
    "lancaster = LancasterStemmer()"
   ]
  },
  {
   "cell_type": "code",
   "execution_count": 9,
   "id": "a9f8d799-124c-4bbe-a1b0-e9cbab553697",
   "metadata": {},
   "outputs": [
    {
     "name": "stdout",
     "output_type": "stream",
     "text": [
      "i\n",
      "am\n",
      "jimit\n",
      "work\n",
      "at\n",
      "moon\n",
      "technolab\n",
      "as\n",
      "develop\n"
     ]
    }
   ],
   "source": [
    "for word in words:\n",
    "    print(lancaster.stem(word))"
   ]
  },
  {
   "cell_type": "code",
   "execution_count": 10,
   "id": "ba9789af-562f-4113-adfe-3269d5d61667",
   "metadata": {},
   "outputs": [],
   "source": [
    "from nltk.stem import RegexpStemmer"
   ]
  },
  {
   "cell_type": "code",
   "execution_count": 11,
   "id": "ff38289c-8f79-418a-a815-9176c5b2f015",
   "metadata": {},
   "outputs": [],
   "source": [
    "regstemmer = RegexpStemmer('ing$|s$|es$', min=4)"
   ]
  },
  {
   "cell_type": "code",
   "execution_count": 12,
   "id": "f948815f-ed6b-4200-8222-aa748486dca5",
   "metadata": {},
   "outputs": [
    {
     "name": "stdout",
     "output_type": "stream",
     "text": [
      "I\n",
      "am\n",
      "jimit\n",
      "work\n",
      "at\n",
      "moon\n",
      "technolab\n",
      "as\n",
      "developer\n"
     ]
    }
   ],
   "source": [
    "for word in words:\n",
    "    print(regstemmer.stem(word))"
   ]
  },
  {
   "cell_type": "code",
   "execution_count": 13,
   "id": "bcadff99-3342-4b8b-9620-da69f97fe237",
   "metadata": {},
   "outputs": [],
   "source": [
    "from nltk.stem import SnowballStemmer"
   ]
  },
  {
   "cell_type": "code",
   "execution_count": 15,
   "id": "aee64ad0-c93b-471d-9c35-0d1cadd382f4",
   "metadata": {},
   "outputs": [],
   "source": [
    "snowball = SnowballStemmer('english', ignore_stopwords=False)"
   ]
  },
  {
   "cell_type": "code",
   "execution_count": 16,
   "id": "b3543295-7bb6-42ea-8c54-d5fcf83691f8",
   "metadata": {},
   "outputs": [
    {
     "name": "stdout",
     "output_type": "stream",
     "text": [
      "i\n",
      "am\n",
      "jimit\n",
      "work\n",
      "at\n",
      "moon\n",
      "technolab\n",
      "as\n",
      "develop\n"
     ]
    }
   ],
   "source": [
    "for word in words:\n",
    "    print(snowball.stem(word))"
   ]
  },
  {
   "cell_type": "code",
   "execution_count": 26,
   "id": "fa642132-c7e1-46f6-8d52-2e46d0ad7cc7",
   "metadata": {},
   "outputs": [
    {
     "name": "stderr",
     "output_type": "stream",
     "text": [
      "[nltk_data] Downloading package wordnet to\n",
      "[nltk_data]     C:\\Users\\jimit_moontechnolabs\\AppData\\Roaming\\nltk_dat\n",
      "[nltk_data]     a...\n"
     ]
    },
    {
     "data": {
      "text/plain": [
       "True"
      ]
     },
     "execution_count": 26,
     "metadata": {},
     "output_type": "execute_result"
    }
   ],
   "source": [
    "import nltk\n",
    "nltk.download('wordnet')"
   ]
  },
  {
   "cell_type": "code",
   "execution_count": 27,
   "id": "6ca012d2-9440-4520-9098-9e8aa5ac8f40",
   "metadata": {},
   "outputs": [],
   "source": [
    "from nltk.stem import WordNetLemmatizer\n",
    "lemmatizer = WordNetLemmatizer()"
   ]
  },
  {
   "cell_type": "code",
   "execution_count": 29,
   "id": "2e168faa-4913-46f8-a714-1ebe87ccb90d",
   "metadata": {},
   "outputs": [
    {
     "name": "stdout",
     "output_type": "stream",
     "text": [
      "I\n",
      "be\n",
      "jimit\n",
      "work\n",
      "at\n",
      "moon\n",
      "technolabs\n",
      "as\n",
      "developer\n"
     ]
    }
   ],
   "source": [
    "for word in words:\n",
    "    print(lemmatizer.lemmatize(word, pos='v'))"
   ]
  },
  {
   "cell_type": "code",
   "execution_count": null,
   "id": "1a73bc2e-0afc-4e85-8857-79979b8633d9",
   "metadata": {},
   "outputs": [],
   "source": []
  }
 ],
 "metadata": {
  "kernelspec": {
   "display_name": "Python 3 (ipykernel)",
   "language": "python",
   "name": "python3"
  },
  "language_info": {
   "codemirror_mode": {
    "name": "ipython",
    "version": 3
   },
   "file_extension": ".py",
   "mimetype": "text/x-python",
   "name": "python",
   "nbconvert_exporter": "python",
   "pygments_lexer": "ipython3",
   "version": "3.12.6"
  }
 },
 "nbformat": 4,
 "nbformat_minor": 5
}
